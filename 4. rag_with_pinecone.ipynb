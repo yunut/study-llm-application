{
 "cells": [
  {
   "cell_type": "markdown",
   "metadata": {},
   "source": [
    "1. 문서의 내용을 읽는다.\n",
    "2. 문서를 쪼갠다\n",
    "3. 임베딩 -> 벡터 데이터베이스에 저장\n",
    "4. 질문이 있을때, 벡터 데이스베이스에서 유사도 검색\n",
    "5. 유사도 검색으로 가져온 문서를 LLM에 질문과 함께 전달"
   ]
  },
  {
   "cell_type": "code",
   "execution_count": null,
   "metadata": {},
   "outputs": [],
   "source": [
    "%pip install -qU pypdf langchain-community"
   ]
  },
  {
   "cell_type": "code",
   "execution_count": null,
   "metadata": {},
   "outputs": [],
   "source": [
    "%pip install -qU langchain-text-splitters"
   ]
  },
  {
   "cell_type": "code",
   "execution_count": null,
   "metadata": {},
   "outputs": [],
   "source": [
    "%pip install chromadb\n",
    "%pip install langchain\n",
    "%pip install sentence-transformers\n",
    "%pip install docx2txt"
   ]
  },
  {
   "cell_type": "code",
   "execution_count": null,
   "metadata": {},
   "outputs": [],
   "source": [
    "%pip install -qU langchain langchainhub "
   ]
  },
  {
   "cell_type": "code",
   "execution_count": 8,
   "metadata": {},
   "outputs": [],
   "source": [
    "from langchain_community.document_loaders import PyPDFLoader\n",
    "from langchain_community.document_loaders import Docx2txtLoader\n",
    "from langchain_text_splitters import RecursiveCharacterTextSplitter\n",
    "from langchain_openai import OpenAIEmbeddings\n",
    "from dotenv import load_dotenv\n",
    "\n",
    "# 문서 불러오기\n",
    "#file_path = \"text.pdf\"\n",
    "#loader = PyPDFLoader(file_path)\n",
    "#pages = loader.load()  # 기본 로드 방식 사용\n",
    "\n",
    "# 문서 쪼개기\n",
    "# chunk_size: 문서를 쪼개는 단위\n",
    "# chunk_overlap: 문서를 쪼개는 단위의 겹치는 부분\n",
    "# 겹치는 부분을 선언하는 이유는 원하는 문서를 가져올 확률을 높이기 위함\n",
    "#text_splitter = RecursiveCharacterTextSplitter(chunk_size=1500, chunk_overlap=200)\n",
    "#chunks = text_splitter.split_documents(pages)\n",
    "\n",
    "# load_and_split 사용으로 문서 불러오기와 쪼개기를 한 번에 수행\n",
    "# 분할기 정의\n",
    "text_splitter = RecursiveCharacterTextSplitter(chunk_size=1500, chunk_overlap=200)\n",
    "\n",
    "# 문서 불러오기와 쪼개기를 한 번에 수행\n",
    "# XXX 현재 pdf에서는 원하는 데이터를 가져오지 못함\n",
    "# pdf에서의 원하는 데이터는 사진 형식의 표로 들어가 있기 때문.\n",
    "# gpt에서 표를 이해하는 방식은 모델에 따라 다르지만 openAI는 markdown으로 이해하기에 markdown으로 변환이 필요하다.\n",
    "file_path = \"text.docx\"\n",
    "loader = Docx2txtLoader(file_path)\n",
    "document_list = loader.load_and_split(text_splitter)\n",
    "\n",
    "\n",
    "# 임베딩\n",
    "load_dotenv()\n",
    "embeddings = OpenAIEmbeddings(model=\"text-embedding-3-large\")"
   ]
  },
  {
   "cell_type": "code",
   "execution_count": null,
   "metadata": {},
   "outputs": [],
   "source": [
    "%pip install -qU langchain-pinecone "
   ]
  },
  {
   "cell_type": "code",
   "execution_count": null,
   "metadata": {},
   "outputs": [],
   "source": [
    "import os\n",
    "from dotenv import load_dotenv\n",
    "\n",
    "from langchain_pinecone import PineconeVectorStore\n",
    "\n",
    "load_dotenv()\n",
    "pinecone_api_key = os.getenv(\"PINECONE_API_KEY\")\n",
    "\n",
    "database = PineconeVectorStore(\n",
    "    index_name=\"tax-collection\",\n",
    "    embedding=embeddings,\n",
    "    pinecone_api_key=pinecone_api_key\n",
    ")\n",
    "database.from_documents(document_list)\n",
    "\n"
   ]
  },
  {
   "cell_type": "code",
   "execution_count": 14,
   "metadata": {},
   "outputs": [],
   "source": [
    "# 유사도 검색\n",
    "query = '연봉 3000만원인 직장인의 소득세는 얼마인가요?'\n",
    "retrieved_docs = database.similarity_search(query, k=3)"
   ]
  },
  {
   "cell_type": "code",
   "execution_count": null,
   "metadata": {},
   "outputs": [],
   "source": [
    "retrieved_docs"
   ]
  },
  {
   "cell_type": "code",
   "execution_count": 8,
   "metadata": {},
   "outputs": [],
   "source": [
    "from langchain_openai import ChatOpenAI\n",
    "\n",
    "llm = ChatOpenAI(model=\"gpt-4o\")\n",
    "\n",
    "# 유사도 검색으로 가져온 문서를 LLM에 질문과 함께 전달\n",
    "# 페르소나를 전달하면 답변이 더 잘나온다고 한다.\n",
    "prompt = f\"\"\"[Identity]\n",
    "- 당신은 한국의 소득세 전문가입니다.\n",
    "- [Context]를 참고해서 사용자의 질문에 대답해주세요.\n",
    "\n",
    "[Context]\n",
    "{retrieved_docs}\n",
    "\n",
    "[Question]\n",
    "{query}\n",
    "\"\"\"\n",
    "response = llm.invoke(prompt)"
   ]
  },
  {
   "cell_type": "code",
   "execution_count": null,
   "metadata": {},
   "outputs": [],
   "source": [
    "response.content"
   ]
  },
  {
   "cell_type": "code",
   "execution_count": null,
   "metadata": {},
   "outputs": [],
   "source": [
    "from langchain import hub\n",
    "\n",
    "# question-answering prompt\n",
    "# 기존에 이미 있는 프롬프트 활용\n",
    "prompt = hub.pull(\"rlm/rag-prompt\")"
   ]
  },
  {
   "cell_type": "code",
   "execution_count": null,
   "metadata": {},
   "outputs": [],
   "source": [
    "prompt"
   ]
  },
  {
   "cell_type": "code",
   "execution_count": 16,
   "metadata": {},
   "outputs": [],
   "source": [
    "from langchain.chains import RetrievalQA\n",
    "\n",
    "qa_chain = RetrievalQA.from_chain_type(\n",
    "    llm=llm,\n",
    "    retriever=database.as_retriever(),\n",
    "    chain_type_kwargs={\"prompt\": prompt}\n",
    ")\n"
   ]
  },
  {
   "cell_type": "code",
   "execution_count": 17,
   "metadata": {},
   "outputs": [],
   "source": [
    "ai_message = qa_chain.invoke({\"query\": query})"
   ]
  },
  {
   "cell_type": "code",
   "execution_count": null,
   "metadata": {},
   "outputs": [],
   "source": [
    "ai_message"
   ]
  }
 ],
 "metadata": {
  "kernelspec": {
   "display_name": "venv310",
   "language": "python",
   "name": "python3"
  },
  "language_info": {
   "codemirror_mode": {
    "name": "ipython",
    "version": 3
   },
   "file_extension": ".py",
   "mimetype": "text/x-python",
   "name": "python",
   "nbconvert_exporter": "python",
   "pygments_lexer": "ipython3",
   "version": "3.10.16"
  }
 },
 "nbformat": 4,
 "nbformat_minor": 2
}
