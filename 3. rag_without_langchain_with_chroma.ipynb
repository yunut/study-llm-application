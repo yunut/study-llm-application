{
 "cells": [
  {
   "cell_type": "markdown",
   "metadata": {},
   "source": [
    "1. 문서의 내용을 읽는다.\n",
    "2. 문서를 쪼갠다\n",
    "3. 임베딩 -> 벡터 데이터베이스에 저장\n",
    "4. 질문이 있을때, 벡터 데이스베이스에서 유사도 검색\n",
    "5. 유사도 검색으로 가져온 문서를 LLM에 질문과 함께 전달"
   ]
  },
  {
   "cell_type": "markdown",
   "metadata": {},
   "source": [
    "# 1. 문서의 내용을 읽는다."
   ]
  },
  {
   "cell_type": "code",
   "execution_count": null,
   "metadata": {},
   "outputs": [],
   "source": [
    "%pip install pdfplumber"
   ]
  },
  {
   "cell_type": "code",
   "execution_count": 10,
   "metadata": {},
   "outputs": [],
   "source": [
    "import pdfplumber\n",
    "\n",
    "text = ''\n",
    "with pdfplumber.open('text.pdf') as pdf:\n",
    "    for page in pdf.pages:\n",
    "        text += page.extract_text()\n",
    "\n"
   ]
  },
  {
   "cell_type": "code",
   "execution_count": null,
   "metadata": {},
   "outputs": [],
   "source": [
    "len(text)"
   ]
  },
  {
   "cell_type": "markdown",
   "metadata": {},
   "source": [
    "# 2. 문서를 쪼갠다"
   ]
  },
  {
   "cell_type": "code",
   "execution_count": null,
   "metadata": {},
   "outputs": [],
   "source": [
    "%pip install tiktoken"
   ]
  },
  {
   "cell_type": "code",
   "execution_count": 27,
   "metadata": {},
   "outputs": [],
   "source": [
    "import tiktoken\n",
    "\n",
    "def split_text(text, chunk_size):\n",
    "    encoder = tiktoken.encoding_for_model(\"gpt-4o\")\n",
    "    encoding = encoder.encode(text)\n",
    "    token_count = len(encoding) # 출력 161015 # gpt-4o의 max 토큰 수는 128000이기 떄문에 쪼개는게 중요하다.\n",
    "\n",
    "    text_list = []\n",
    "    for i in range(0, token_count, chunk_size):\n",
    "        chunk = encoding[i: i+chunk_size]\n",
    "        decoded = encoder.decode(chunk)\n",
    "        text_list.append(decoded)\n",
    "    return text_list"
   ]
  },
  {
   "cell_type": "code",
   "execution_count": 28,
   "metadata": {},
   "outputs": [],
   "source": [
    "chunk_list = split_text(text, 1500)"
   ]
  },
  {
   "cell_type": "markdown",
   "metadata": {},
   "source": [
    "# 3. 임베딩 -> 벡터 데이터베이스에 저장"
   ]
  },
  {
   "cell_type": "code",
   "execution_count": null,
   "metadata": {},
   "outputs": [],
   "source": [
    "%pip install chromadb"
   ]
  },
  {
   "cell_type": "code",
   "execution_count": 17,
   "metadata": {},
   "outputs": [],
   "source": [
    "import chromadb\n",
    "\n",
    "chroma_client = chromadb.Client()"
   ]
  },
  {
   "cell_type": "code",
   "execution_count": 19,
   "metadata": {},
   "outputs": [],
   "source": [
    "collection_name = 'tax_collection'\n",
    "tax_collection = chroma_client.create_collection(collection_name)"
   ]
  },
  {
   "cell_type": "code",
   "execution_count": 23,
   "metadata": {},
   "outputs": [],
   "source": [
    "import os\n",
    "\n",
    "from dotenv import load_dotenv\n",
    "from chromadb.utils.embedding_functions import OpenAIEmbeddingFunction\n",
    "\n",
    "# 동작하지 않음\n",
    "#load_dotenv()\n",
    "\n",
    "openai_api_key = os.getenv('OPENAI_API_KEY')\n",
    "openai_embedding = OpenAIEmbeddingFunction(api_key=openai_api_key, model_name='text-embedding-3-large')\n"
   ]
  },
  {
   "cell_type": "code",
   "execution_count": 25,
   "metadata": {},
   "outputs": [],
   "source": [
    "tax_collection = chroma_client.get_or_create_collection(collection_name, embedding_function=openai_embedding)"
   ]
  },
  {
   "cell_type": "code",
   "execution_count": 30,
   "metadata": {},
   "outputs": [],
   "source": [
    "id_list = []\n",
    "for index in range(len(chunk_list)):\n",
    "    id_list.append(f'{index}')"
   ]
  },
  {
   "cell_type": "code",
   "execution_count": 31,
   "metadata": {},
   "outputs": [],
   "source": [
    "tax_collection.add(documents=chunk_list, ids=id_list)"
   ]
  },
  {
   "cell_type": "markdown",
   "metadata": {},
   "source": [
    "# 4. 질문이 있을때, 벡터 데이스베이스에서 유사도 검색"
   ]
  },
  {
   "cell_type": "code",
   "execution_count": 37,
   "metadata": {},
   "outputs": [],
   "source": [
    "query = '연봉 3000만원인 직장인의 소득세는 얼마인가요?'\n",
    "retireved_pdf = tax_collection.query(query_texts=query, n_results=3)"
   ]
  },
  {
   "cell_type": "code",
   "execution_count": 38,
   "metadata": {},
   "outputs": [
    {
     "data": {
      "text/plain": [
       "['령으로 정하는 특수관계에 있는 자가 받는 보상금은 제외한다.\\n2) 대학의 교직원 또는 대학과 고용관계가 있는 학생이 소속 대학에 설치된 「산업교육진흥 및 산학연\\n협력촉진에 관한 법률」 제25조에 따른 산학협력단(이하 이 조에서 “산학협력단”이라 한다)으로부터 같은 법\\n제32조제1항제4호에 따라 받는 보상금\\n저. 대통령령으로 정하는 복리후생적 성질의 급여\\n처. 제20조제1항제6호에 따른 소득 중 다음의 요건을 모두 충족하는 소득으로서 대통령령으로 정하는 금액\\n이하의 금액\\n1) 임원 또는 종업원(이하 이 조, 제20조 및 제164조의5에서 “임원등”이라 한다) 본인이 소비하는 것을\\n목적으로 제공받거나 지원을 받아 구입한 재화 또는 용역으로서 대통령령으로 정하는 기간 동안 재\\n판매가 허용되지 아니할 것\\n2) 해당 재화 또는 용역의 제공과 관련하여 모든 임원등에게 공통으로 적용되는 기준이 있을 것\\n4. 연금소득 중 다음 각 목의 어느 하나에 해당하는 소득\\n가. 「국민연금법」, 「공무원연금법」 또는 「공무원 재해보상법」, 「군인연금법」 또는 「군인 재해보상법\\n」, 「사립학교교직원 연금법」, 「별정우체국법」 또는 「국민연금과 직역연금의 연계에 관한 법률」(이하\\n“공적연금 관련법”이라 한다)에 따라 받는 유족연금ㆍ퇴직유족연금ㆍ퇴역유족연금ㆍ장해유족연금ㆍ상이\\n유족연금ㆍ순직유족연금ㆍ직무상유족연금ㆍ위험직무순직유족연금, 장애연금, 장해연금ㆍ비공무상 장해연\\n금ㆍ비직무상 장해연금, 상이연금(傷痍年金), 연계노령유족연금 또는 연계퇴직유족연금\\n나. 삭제<2013. 1. 1.>\\n다. 「산업재해보상보험법」에 따라 받는 각종 연금\\n라. 「국군포로의 송환 및 대우 등에 관한 법률」에 따른 국군포로가 받는 연금\\n마. 삭제<2013. 1. 1.>\\n5. 기타소득 중 다음 각 목의 어느 하나에 해당하는 소득\\n가. 「국가유공자 등 예우 및 지원에 관한 법률」 또는 「보훈보상대상자 지원에 관한 법률」에 따라 받는 보\\n훈급여금ㆍ학습보조비 및 「북한이탈주민의 보호 및 정착지원에 관한 법률」에 따라 받는 정착금ㆍ보로금\\n(報勞金)과 그 밖의 금품\\n나. 「국가보안법」에 따라 받는 상금과 보로금\\n다. 「상훈법」에 따른 훈장과 관련하여 받는 부상(副賞)이나 그 밖에 대통령령으로 정하는 상금과 부상\\n라. 종업원등 또는 대학의 교직원이 퇴직한 후에 사용자등 또는 산학협력단으로부터 지급받거나 대학의 학\\n생이 소속 대학에 설치된 산학협력단으로부터 받는 직무발명보상금으로서 대통령령으로 정하는 금액.\\n다만, 직무발명보상금을 지급한 사용자등 또는 산학협력단과 대통령령으로 정하는 특수관계에 있는 자\\n가 받는 직무발명보상금은 제외한다.\\n마. 「국군포로의 송환 및 대우 등에 관한 법률」에 따라 국군포로가 받는 위로지원금과 그 밖의 금품\\n바. 「문화유산의 보존 및 활용에 관한 법률」에 따라 국가지정문화유산으로 지정된 서화ㆍ골동품의 양도로\\n9\\n법제처 국가법령정보센터소득세법\\n발생하는 소득\\n사. 서화ㆍ골동품을 박물관 또는 미술관에 양도함으로써 발생하는 소득\\n아. 제21조제1항제26호에 따른 종교인소득 중 다음의 어느 하나에 해당하는 소득\\n1) 「통계법」 제22조에 따라 통계청장이 고시하는 한국표준직업분류에 따른 종교관련종사자(이하 “종\\n교관련종사자”라 한다)가 받는 대통령령으로 정하는 학자금\\n2) 종교관련종사자가 받는 대통령령으로 정하는 식사 또는 식사대\\n3) 종교관련종사자가 받는 대통령령으로 정하는 실비변상적 성질의 지급액\\n4) 종교관련종사자 또는 그 배우자의 출산이나 6세 이하(해당 과세기간 개시일을 기준으로 판단한다\\n) 자녀의 보육과 관련하여 종교단체로부터 받는 금액으로서 월 20만원 이내의 금액\\n5) 종교관련종사자가 기획재정부령으로 정하는 사택을 제공받아 얻는 이익\\n자. 법령ㆍ조례에 따른 위원회 등의 보수를 받지 아니하는 위원(학술원 및 예술원의 회원을 포함한다) 등\\n이 받는 수당\\n[전문개정 2009. 12. 31.]\\n제13조 삭제 <2009. 12. 31.>\\n제2절 과세표준과 세액의 계산 <개정 2009. 12. 31.>\\n제1관 세액계산 통칙 <개정 2009. 12. 31.>\\n제14조(과세표준의 계산) ① 거주자의 종합소득 및 퇴직소득에 대한 과세표준은 각각 구분하여 계산한다.\\n② 종합소득에 대한 과세표준(이하 “종합소득과세표준”이라 한다)은 제16조, 제17조, 제19조, 제20조, 제20조\\n의3, 제21조, 제24조부터 제26조까지, 제27조부터 제29조까지, 제31조부터 제35조까지, 제37조, 제39조, 제41조\\n부터 제46조까지,',\n",
       " ' 대해서는 주된 공동사업자의 특수관계인은 같은 조 제\\n2항에 따른 손익분배비율에 해당하는 그의 소득금액을 한도로 주된 공동사업자와 연대하여 납세의무를 진다.\\n<개정 2012. 1. 1., 2013. 1. 1.>\\n② 제44조에 따라 피상속인의 소득금액에 대해서 과세하는 경우에는 그 상속인이 납세의무를 진다.\\n③ 제101조제2항에 따라 증여자가 자산을 직접 양도한 것으로 보는 경우 그 양도소득에 대해서는 증여자와\\n증여받은 자가 연대하여 납세의무를 진다.<개정 2020. 12. 29.>\\n④ 제127조에 따라 원천징수되는 소득으로서 제14조제3항 또는 다른 법률에 따라 제14조제2항에 따른 종합\\n소득과세표준에 합산되지 아니하는 소득이 있는 자는 그 원천징수되는 소득세에 대해서 납세의무를 진다.<개\\n정 2020. 12. 29.>\\n⑤ 공동으로 소유한 자산에 대한 양도소득금액을 계산하는 경우에는 해당 자산을 공동으로 소유하는 각 거\\n주자가 납세의무를 진다.<신설 2017. 12. 19., 2020. 12. 29.>\\n[전문개정 2009. 12. 31.]\\n[제2조에서 이동 <2009. 12. 31.>]\\n2\\n법제처 국가법령정보센터소득세법\\n제2조의3(신탁재산 귀속 소득에 대한 납세의무의 범위) ① 신탁재산에 귀속되는 소득은 그 신탁의 이익을 받을\\n수익자(수익자가 사망하는 경우에는 그 상속인)에게 귀속되는 것으로 본다.\\n② 제1항에도 불구하고 위탁자가 신탁재산을 실질적으로 통제하는 등 대통령령으로 정하는 요건을 충족하는\\n신탁의 경우에는 그 신탁재산에 귀속되는 소득은 위탁자에게 귀속되는 것으로 본다.<개정 2023. 12. 31.>\\n[본조신설 2020. 12. 29.]\\n제3조(과세소득의 범위) ① 거주자에게는 이 법에서 규정하는 모든 소득에 대해서 과세한다. 다만, 해당 과세기\\n간 종료일 10년 전부터 국내에 주소나 거소를 둔 기간의 합계가 5년 이하인 외국인 거주자에게는 과세대상\\n소득 중 국외에서 발생한 소득의 경우 국내에서 지급되거나 국내로 송금된 소득에 대해서만 과세한다.\\n② 비거주자에게는 제119조에 따른 국내원천소득에 대해서만과세한다.\\n③ 제1항 및 제2항을 적용하는 경우 「조세특례제한법」 제100조의14제2호의 동업자에게는 같은 법 제100조의\\n18제1항에 따라 배분받은 소득 및 같은 법 제100조의22제1항에 따라 분배받은 자산의 시가 중 분배일의 지\\n분가액을 초과하여 발생하는 소득에 대하여 과세한다.\\n[전문개정 2009. 12. 31.]\\n제4조(소득의 구분) ① 거주자의 소득은 다음 각 호와 같이 구분한다. <개정 2013. 1. 1., 2020. 12. 29., 2024. 12. 31.>\\n1. 종합소득\\n이 법에 따라 과세되는 모든 소득에서 제2호 및 제3호에 따른 소득을 제외한 소득으로서 다음 각 목의 소\\n득을 합산한 것\\n가. 이자소득\\n나. 배당소득\\n다. 사업소득\\n라. 근로소득\\n마. 연금소득\\n바. 기타소득\\n2. 퇴직소득\\n2의2. 삭제<2024. 12. 31.>\\n3. 양도소득\\n② 제1항에 따른 소득을 구분할 때 다음 각 호의 신탁을 제외한 신탁의 이익은 「신탁법」 제2조에 따라 수탁\\n자에게 이전되거나 그 밖에 처분된 재산권에서 발생하는 소득의 내용별로 구분한다.<개정 2011. 7. 25., 2020.\\n12. 29., 2022. 12. 31., 2024. 12. 31.>\\n1. 「법인세법」 제5조제2항에 따라 신탁재산에 귀속되는 소득에 대하여 그 신탁의 수탁자가 법인세를 납부하\\n는 신탁\\n2. 「자본시장과 금융투자업에 관한 법률」 제9조제18항제1호에 따른 투자신탁(제17조제1항제5호에 따른 집합\\n투자기구로 한정한다)\\n3\\n법제처 국가법령정보센터소득세법\\n3. 「자본시장과 금융투자업에 관한 법률」 제251조제1항에 따른 집합투자업겸영보험회사의 특별계정\\n③ 비거주자의 소득은 제119조에 따라 구분한다.\\n[전문개정 2009. 12. 31.]\\n제4조(소득의 구분) ① 거주자의 소득은 다음 각 호와 같이 구분한다. <개정 2013. 1. 1., 2020. 12. 29., 2024. 12. 31.>\\n1. 종합소득\\n이 법에 따라 과세되는 모든 소득에서 제2호 및 제3호에 따른 소득을 제외한 소득으로서 다음 각 목의 소\\n득을 합산한 것\\n가. 이자소득\\n나. 배당소득\\n다. 사업소득\\n라. 근로소득\\n마. 연금소득\\n바. 기타소득\\n2. 퇴직소득\\n2의2. 삭제<2024. 12. 31.>\\n3. 양도소득\\n② 제1항에 따른 소득을 구분할 때 다음 각 호의 신탁을 제외한 신탁의 이익은 「신탁법」 제2조에 따라 수',\n",
       " '12. 31.>\\n1. 농업(작물재배업 중 곡물 및 기타 식량작물 재배업은 제외한다. 이하 같다)ㆍ임업 및 어업에서 발생하는\\n소득\\n2. 광업에서 발생하는 소득\\n3. 제조업에서 발생하는 소득\\n4. 전기, 가스, 증기 및 공기조절공급업에서 발생하는 소득\\n5. 수도, 하수 및 폐기물 처리, 원료 재생업에서 발생하는 소득\\n6. 건설업에서 발생하는 소득\\n7. 도매 및 소매업에서 발생하는 소득\\n8. 운수 및 창고업에서 발생하는 소득\\n9. 숙박 및 음식점업에서 발생하는 소득\\n10. 정보통신업에서 발생하는 소득\\n11. 금융 및 보험업에서 발생하는 소득\\n12. 부동산업에서 발생하는 소득. 다만, 「공익사업을 위한 토지 등의 취득 및 보상에 관한 법률」 제4조에 따\\n른 공익사업과 관련하여 지역권ㆍ지상권(지하 또는 공중에 설정된 권리를 포함한다)을 설정하거나 대여함\\n으로써 발생하는 소득은 제외한다.\\n17\\n법제처 국가법령정보센터소득세법\\n13. 전문, 과학 및 기술서비스업(대통령령으로 정하는 연구개발업은 제외한다)에서 발생하는 소득\\n14. 사업시설관리, 사업 지원 및 임대 서비스업에서 발생하는 소득\\n15. 교육서비스업(대통령령으로 정하는 교육기관은 제외한다)에서 발생하는 소득\\n16. 보건업 및 사회복지서비스업(대통령령으로 정하는 사회복지사업은 제외한다)에서 발생하는 소득\\n17. 예술, 스포츠 및 여가 관련 서비스업에서 발생하는 소득\\n18. 협회 및 단체(대통령령으로 정하는 협회 및 단체는 제외한다), 수리 및 기타 개인서비스업에서 발생하는\\n소득\\n19. 가구내 고용활동에서 발생하는 소득\\n20. 제160조제3항에 따른 복식부기의무자가 차량 및 운반구 등 대통령령으로 정하는 사업용 유형자산을 양도\\n함으로써 발생하는 소득. 다만, 제94조제1항제1호에 따른 양도소득에 해당하는 경우는 제외한다.\\n21. 제1호부터 제20호까지의 규정에 따른 소득과 유사한 소득으로서 영리를 목적으로 자기의 계산과 책임 하\\n에 계속적ㆍ반복적으로 행하는 활동을 통하여 얻는 소득\\n② 사업소득금액은 해당 과세기간의 총수입금액에서 이에 사용된 필요경비를 공제한 금액으로 하며, 필요경\\n비가 총수입금액을 초과하는 경우 그 초과하는 금액을 “결손금”이라 한다.\\n③ 제1항 각 호에 따른 사업의 범위에 관하여는 이 법에 특별한 규정이 있는 경우 외에는 「통계법」 제22조\\n에 따라 통계청장이 고시하는 한국표준산업분류에 따르고, 그 밖의 사업소득의 범위에 관하여 필요한 사항은\\n대통령령으로 정한다.\\n[전문개정 2009. 12. 31.]\\n제20조(근로소득) ① 근로소득은 해당 과세기간에 발생한 다음 각 호의 소득으로 한다. <개정 2016. 12. 20., 2024.\\n12. 31.>\\n1. 근로를 제공함으로써 받는 봉급ㆍ급료ㆍ보수ㆍ세비ㆍ임금ㆍ상여ㆍ수당과 이와 유사한 성질의 급여\\n2. 법인의 주주총회ㆍ사원총회 또는 이에 준하는 의결기관의 결의에 따라 상여로 받는 소득\\n3. 「법인세법」에 따라 상여로 처분된 금액\\n4. 퇴직함으로써 받는 소득으로서 퇴직소득에 속하지 아니하는 소득\\n5. 종업원등 또는 대학의 교직원이 지급받는 직무발명보상금(제21조제1항제22호의2에 따른 직무발명보상금은\\n제외한다)\\n6. 사업자나 법인이 생산ㆍ공급하는 재화 또는 용역을 그 사업자나 법인(「독점규제 및 공정거래에 관한 법률\\n」에 따른 계열회사를 포함한다)의 사업장에 종사하는 임원등에게 대통령령으로 정하는 바에 따라 시가보다\\n낮은 가격으로 제공하거나 구입할 수 있도록 지원함으로써 해당 임원등이 얻는 이익\\n② 근로소득금액은 제1항 각 호의 소득의 금액의 합계액(비과세소득의 금액은 제외하며, 이하 “총급여액”이\\n라 한다)에서 제47조에 따른 근로소득공제를 적용한 금액으로 한다.\\n③ 근로소득의 범위에 관하여 필요한 사항은 대통령령으로 정한다.\\n[전문개정 2009. 12. 31.]\\n18\\n법제처 국가법령정보센터소득세법\\n제20조의2 삭제 <2006. 12. 30.>\\n제20조의3(연금소득) ① 연금소득은 해당 과세기간에 발생한 다음 각 호의 소득으로 한다. <개정 2013. 1. 1.,\\n2014. 1. 1., 2014. 12. 23., 2023. 12. 31.>\\n1. 공적연금 관련법에 따라 받는 각종 연금(이하 “공적연금소득”이라 한다)\\n2. 다음 각 목에 해당하는 금액을 그 소득의 성격에도 불구하고 연금계좌[“연금저축”의 명칭으로 설정하는\\n대통령령으로 정하는 계좌(이하 “연금저축계좌”라 한다) 또는 퇴직연금을 지급받기 위하여 설정하는 대통\\n령령으로 정하는 계좌(이하 “퇴직연금계좌”라 한다)를 말한다. 이하 같다]에서 대통령령으로 정하는 연금형\\n태 등으로 인출(이하 “연금수령”이라 하며, 연금수령 외의 인출은 “연금외수령”이라 한다)하는 경우의 그\\n연금\\n가. 제146조제2항에 따라 원천징수되지 아니한 퇴직소득\\n나. 제']"
      ]
     },
     "execution_count": 38,
     "metadata": {},
     "output_type": "execute_result"
    }
   ],
   "source": [
    "retireved_pdf['documents'][0]"
   ]
  },
  {
   "cell_type": "markdown",
   "metadata": {},
   "source": [
    "# 5. 유사도 검색으로 가져온 문서를 LLM에 질문과 함께 전달"
   ]
  },
  {
   "cell_type": "code",
   "execution_count": 39,
   "metadata": {},
   "outputs": [
    {
     "name": "stdout",
     "output_type": "stream",
     "text": [
      "Requirement already satisfied: openai in ./venv310/lib/python3.10/site-packages (1.68.2)\n",
      "Requirement already satisfied: anyio<5,>=3.5.0 in ./venv310/lib/python3.10/site-packages (from openai) (4.9.0)\n",
      "Requirement already satisfied: distro<2,>=1.7.0 in ./venv310/lib/python3.10/site-packages (from openai) (1.9.0)\n",
      "Requirement already satisfied: httpx<1,>=0.23.0 in ./venv310/lib/python3.10/site-packages (from openai) (0.28.1)\n",
      "Requirement already satisfied: jiter<1,>=0.4.0 in ./venv310/lib/python3.10/site-packages (from openai) (0.9.0)\n",
      "Requirement already satisfied: pydantic<3,>=1.9.0 in ./venv310/lib/python3.10/site-packages (from openai) (2.10.6)\n",
      "Requirement already satisfied: sniffio in ./venv310/lib/python3.10/site-packages (from openai) (1.3.1)\n",
      "Requirement already satisfied: tqdm>4 in ./venv310/lib/python3.10/site-packages (from openai) (4.67.1)\n",
      "Requirement already satisfied: typing-extensions<5,>=4.11 in ./venv310/lib/python3.10/site-packages (from openai) (4.12.2)\n",
      "Requirement already satisfied: exceptiongroup>=1.0.2 in ./venv310/lib/python3.10/site-packages (from anyio<5,>=3.5.0->openai) (1.2.2)\n",
      "Requirement already satisfied: idna>=2.8 in ./venv310/lib/python3.10/site-packages (from anyio<5,>=3.5.0->openai) (3.10)\n",
      "Requirement already satisfied: certifi in ./venv310/lib/python3.10/site-packages (from httpx<1,>=0.23.0->openai) (2025.1.31)\n",
      "Requirement already satisfied: httpcore==1.* in ./venv310/lib/python3.10/site-packages (from httpx<1,>=0.23.0->openai) (1.0.7)\n",
      "Requirement already satisfied: h11<0.15,>=0.13 in ./venv310/lib/python3.10/site-packages (from httpcore==1.*->httpx<1,>=0.23.0->openai) (0.14.0)\n",
      "Requirement already satisfied: annotated-types>=0.6.0 in ./venv310/lib/python3.10/site-packages (from pydantic<3,>=1.9.0->openai) (0.7.0)\n",
      "Requirement already satisfied: pydantic-core==2.27.2 in ./venv310/lib/python3.10/site-packages (from pydantic<3,>=1.9.0->openai) (2.27.2)\n",
      "\n",
      "\u001b[1m[\u001b[0m\u001b[34;49mnotice\u001b[0m\u001b[1;39;49m]\u001b[0m\u001b[39;49m A new release of pip is available: \u001b[0m\u001b[31;49m24.3.1\u001b[0m\u001b[39;49m -> \u001b[0m\u001b[32;49m25.0.1\u001b[0m\n",
      "\u001b[1m[\u001b[0m\u001b[34;49mnotice\u001b[0m\u001b[1;39;49m]\u001b[0m\u001b[39;49m To update, run: \u001b[0m\u001b[32;49mpip install --upgrade pip\u001b[0m\n",
      "Note: you may need to restart the kernel to use updated packages.\n"
     ]
    }
   ],
   "source": [
    "%pip install openai"
   ]
  },
  {
   "cell_type": "code",
   "execution_count": 40,
   "metadata": {},
   "outputs": [],
   "source": [
    "from openai import OpenAI\n",
    "\n",
    "client = OpenAI()\n",
    "\n",
    "# message에 history를 추가해서 질문을 할 수 있음\n",
    "response = client.chat.completions.create(\n",
    "    model='gpt-4o',\n",
    "    messages=[\n",
    "        {'role': 'system', 'content': f'당신은 한국의 소득세 전문가 입니다. 아래 내용을 참고해서 사용자의 질문에 답변해주세요. {retireved_pdf[\"documents\"][0]}'},\n",
    "        {'role': 'user', 'content': query},\n",
    "    ],\n",
    ")\n"
   ]
  },
  {
   "cell_type": "code",
   "execution_count": 41,
   "metadata": {},
   "outputs": [
    {
     "data": {
      "text/plain": [
       "ChatCompletion(id='chatcmpl-BEypDIU1LPiZ4kbVQdB4cfrCZ54Sg', choices=[Choice(finish_reason='stop', index=0, logprobs=None, message=ChatCompletionMessage(content='연봉 3,000만원인 직장인의 소득세를 계산하기 위해서는 우선 소득세율을 적용하여야 하며, 근로소득공제 및 기본공제를 고려해야 합니다. \\n\\n2023년 기준, 대한민국의 근로소득세 계산은 아래 단계로 이루어집니다: \\n\\n1. **근로소득공제**: 연봉에 따라 일정 금액이 공제됩니다. 연봉 3,000만원의 경우, 근로소득공제 금액은 다음과 같습니다:\\n   - 500만원 이하: 전액 공제\\n   - 500만원 초과 1,500만원 이하: 500만원 +\\n   - 1,500만원 초과 4,500만원 이하: (연봉 - 1,500만원) × 10% + 1,000만원\\n\\n   구체적으로 계산하면, 3,000만원 - 1,500만원 = 1,500만원이 10%로 공제됩니다. 즉, 150만원 공제가 추가되므로 총 공제는 1,000만원 + 150만원 = 1,150만원입니다.\\n\\n2. **과세표준 계산**: 연봉에서 근로소득공제를 뺀 금액\\n   - 과세표준 = 3,000만원 - 1,150만원 = 1,850만원\\n\\n3. **소득세율 적용**: 과세표준에 따라 소득세율을 적용합니다. \\n   - 과세표준 1,200만원 초과 4,600만원 이하: 15%\\n\\n   과세표준에 대한 소득세는 (1,850만원 - 1,200만원) × 15% + 72만원(기본세액) = 9,750,000 × 0.15 + 720,000 = 1,462,500원이 됩니다.\\n\\n4. **세액공제**: 기본적으로 부양가족, 의료비, 교육비 등 여러 세액공제가 있고 이는 개인의 상황에 따라 다르게 적용될 수 있습니다. 일반적으로 적용되는 세액공제가 없다고 가정했을 때를 기초로 설명합니다.\\n\\n이를 통해 최종적인 소득세를 계산하게 됩니다. 구체적인 공제 항목에 따라 최종적인 납부 세액은 달라질 수 있으니, 보다 자세한 사항은 세무사와 상담하여 개인의 상황에 따른 공제를 확인하는 것이 좋습니다.', refusal=None, role='assistant', annotations=[], audio=None, function_call=None, tool_calls=None))], created=1742910103, model='gpt-4o-2024-08-06', object='chat.completion', service_tier='default', system_fingerprint='fp_90d33c15d4', usage=CompletionUsage(completion_tokens=535, prompt_tokens=4616, total_tokens=5151, completion_tokens_details=CompletionTokensDetails(accepted_prediction_tokens=0, audio_tokens=0, reasoning_tokens=0, rejected_prediction_tokens=0), prompt_tokens_details=PromptTokensDetails(audio_tokens=0, cached_tokens=0)))"
      ]
     },
     "execution_count": 41,
     "metadata": {},
     "output_type": "execute_result"
    }
   ],
   "source": [
    "response.choices[0].message.content"
   ]
  }
 ],
 "metadata": {
  "kernelspec": {
   "display_name": "venv310",
   "language": "python",
   "name": "python3"
  },
  "language_info": {
   "codemirror_mode": {
    "name": "ipython",
    "version": 3
   },
   "file_extension": ".py",
   "mimetype": "text/x-python",
   "name": "python",
   "nbconvert_exporter": "python",
   "pygments_lexer": "ipython3",
   "version": "3.10.16"
  }
 },
 "nbformat": 4,
 "nbformat_minor": 2
}
